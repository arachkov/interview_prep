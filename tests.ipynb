{
 "metadata": {
  "language_info": {
   "codemirror_mode": {
    "name": "ipython",
    "version": 3
   },
   "file_extension": ".py",
   "mimetype": "text/x-python",
   "name": "python",
   "nbconvert_exporter": "python",
   "pygments_lexer": "ipython3",
   "version": "3.8.2"
  },
  "orig_nbformat": 2,
  "kernelspec": {
   "name": "python382jvsc74a57bd031f2aee4e71d21fbe5cf8b01ff0e069b9275f58929596ceb00d14d90e3e16cd6",
   "display_name": "Python 3.8.2 64-bit"
  }
 },
 "nbformat": 4,
 "nbformat_minor": 2,
 "cells": [
  {
   "source": [
    "Testing the implementations"
   ],
   "cell_type": "markdown",
   "metadata": {}
  },
  {
   "cell_type": "code",
   "execution_count": 1,
   "metadata": {},
   "outputs": [],
   "source": [
    "%load_ext autoreload\n",
    "%autoreload 2\n",
    "from string_subsequence import *"
   ]
  },
  {
   "cell_type": "code",
   "execution_count": 2,
   "metadata": {},
   "outputs": [
    {
     "output_type": "stream",
     "name": "stdout",
     "text": [
      "Testing string subsequence\nUsing stack method: True\nUsing pointers method: True\n"
     ]
    }
   ],
   "source": [
    "string=\"abcd\"\n",
    "test = \"xyazbcd\"\n",
    "print(\"Testing string subsequence\")\n",
    "print(\"Using stack method: %r\" %subsequence_stack(string,test))\n",
    "print(\"Using pointers method: %r\" %subsequence_stack(string,test))"
   ]
  },
  {
   "cell_type": "code",
   "execution_count": 3,
   "metadata": {},
   "outputs": [
    {
     "output_type": "stream",
     "name": "stdout",
     "text": [
      "Testing string subsequence\nUsing stack method: False\nUsing pointers method: False\n"
     ]
    }
   ],
   "source": [
    "string=\"abcd\"\n",
    "test=\"xyazbdc\"\n",
    "print(\"Testing string subsequence\")\n",
    "print(\"Using stack method: %r\" %subsequence_stack(string,test))\n",
    "print(\"Using pointers method: %r\" %subsequence_stack(string,test))"
   ]
  },
  {
   "cell_type": "code",
   "execution_count": null,
   "metadata": {},
   "outputs": [],
   "source": []
  }
 ]
}